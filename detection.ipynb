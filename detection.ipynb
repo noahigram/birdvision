{
 "cells": [
  {
   "cell_type": "markdown",
   "metadata": {},
   "source": [
    "## Bird Detection \n",
    "\n",
    "In this notebook, we will try to train a model to be able to tell whether a bird is in an image or not. \n",
    "The ultimate goal is to be able to take in an image, and identify the correct bird species as well as the unique bird. One issue is that an image might not include a bird, or the bird is unidentifiable to the point that we don't want it in our dataset for training/prediction. Here we try to solve this problem. "
   ]
  },
  {
   "cell_type": "markdown",
   "metadata": {},
   "source": [
    "## Bird/No Bird Dataset\n",
    "We are going to use a pretrained image classification model, but we need a dataset for finetuning to our detection task. This means we need images with birds, and images without birds. "
   ]
  },
  {
   "cell_type": "markdown",
   "metadata": {},
   "source": [
    "### Getting a Bird Dataset"
   ]
  },
  {
   "cell_type": "code",
   "execution_count": null,
   "metadata": {},
   "outputs": [],
   "source": [
    "## Bird Detection \n"
   ]
  }
 ],
 "metadata": {
  "language_info": {
   "name": "python"
  }
 },
 "nbformat": 4,
 "nbformat_minor": 2
}
